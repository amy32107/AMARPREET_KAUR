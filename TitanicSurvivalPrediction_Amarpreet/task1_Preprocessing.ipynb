{
 "cells": [
  {
   "cell_type": "code",
   "execution_count": 21,
   "metadata": {},
   "outputs": [
    {
     "name": "stdout",
     "output_type": "stream",
     "text": [
      "Preprocessing Completed and saved to preprocessed_titanic.csv\n"
     ]
    }
   ],
   "source": [
    "import pandas as pd\n",
    "import numpy as np\n",
    "from sklearn.preprocessing import MinMaxScaler\n",
    "\n",
    "# Load dataset\n",
    "url = \"https://raw.githubusercontent.com/mwaskom/seaborn-data/master/titanic.csv\"\n",
    "df = pd.read_csv(url)\n",
    "\n",
    "# Handle missing values\n",
    "df.fillna({\n",
    "    'age': df['age'].median(),\n",
    "    'embarked': df['embarked'].mode()[0],\n",
    "    'deck': 'Unknown'\n",
    "}, inplace=True)\n",
    "\n",
    "# Convert categorical columns to numerical\n",
    "df['pclass'] = df['pclass'].astype('category').cat.codes\n",
    "df['survived'] = df['survived'].astype(int)\n",
    "\n",
    "# Remove outliers using Z-score\n",
    "z_scores = np.abs((df['age'] - df['age'].mean()) / df['age'].std())\n",
    "df = df[z_scores < 3]\n",
    "\n",
    "# Normalize numeric columns\n",
    "scaler = MinMaxScaler()\n",
    "df[['fare', 'age']] = scaler.fit_transform(df[['fare', 'age']])\n",
    "\n",
    "# Feature Engineering: Create a new feature\n",
    "df['family_size'] = df['sibsp'] + df['parch'] + 1\n",
    "\n",
    "# Save preprocessed dataset\n",
    "df.to_csv('preprocessed_titanic.csv', index=False)\n",
    "print(\"Preprocessing Completed and saved to preprocessed_titanic.csv\")\n"
   ]
  }
 ],
 "metadata": {
  "kernelspec": {
   "display_name": "Python 3",
   "language": "python",
   "name": "python3"
  },
  "language_info": {
   "codemirror_mode": {
    "name": "ipython",
    "version": 3
   },
   "file_extension": ".py",
   "mimetype": "text/x-python",
   "name": "python",
   "nbconvert_exporter": "python",
   "pygments_lexer": "ipython3",
   "version": "3.11.5"
  }
 },
 "nbformat": 4,
 "nbformat_minor": 2
}
