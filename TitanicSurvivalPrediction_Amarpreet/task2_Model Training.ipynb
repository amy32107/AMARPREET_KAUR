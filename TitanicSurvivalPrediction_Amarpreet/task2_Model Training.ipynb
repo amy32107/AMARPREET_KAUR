{
 "cells": [
  {
   "cell_type": "code",
   "execution_count": 17,
   "metadata": {},
   "outputs": [
    {
     "name": "stderr",
     "output_type": "stream",
     "text": [
      "C:\\Users\\caren\\AppData\\Local\\Temp\\ipykernel_13752\\767965997.py:30: SettingWithCopyWarning: \n",
      "A value is trying to be set on a copy of a slice from a DataFrame.\n",
      "Try using .loc[row_indexer,col_indexer] = value instead\n",
      "\n",
      "See the caveats in the documentation: https://pandas.pydata.org/pandas-docs/stable/user_guide/indexing.html#returning-a-view-versus-a-copy\n",
      "  X[['age', 'fare', 'fare_per_person']] = scaler.fit_transform(X[['age', 'fare', 'fare_per_person']])\n"
     ]
    },
    {
     "name": "stdout",
     "output_type": "stream",
     "text": [
      "Optimized Accuracy: 0.8249\n",
      "Optimized Precision: 0.8254\n",
      "Optimized Recall: 0.7222\n",
      "Optimized F1 Score: 0.7704\n",
      "Optimized model saved as optimized_titanic_model.pkl\n"
     ]
    }
   ],
   "source": [
    "from sklearn.model_selection import train_test_split, GridSearchCV\n",
    "from sklearn.ensemble import GradientBoostingClassifier\n",
    "from sklearn.metrics import accuracy_score, precision_score, recall_score, f1_score\n",
    "from sklearn.preprocessing import StandardScaler, OneHotEncoder\n",
    "import pandas as pd\n",
    "import joblib\n",
    "\n",
    "# Load preprocessed dataset\n",
    "df = pd.read_csv('preprocessed_titanic.csv')\n",
    "\n",
    "# Feature Engineering: Adding more useful features\n",
    "df['is_alone'] = (df['family_size'] == 1).astype(int)\n",
    "df['fare_per_person'] = df['fare'] / df['family_size']\n",
    "\n",
    "# Encode categorical columns\n",
    "encoder = OneHotEncoder(drop='first', sparse_output=False)\n",
    "encoded_columns = encoder.fit_transform(df[['sex', 'embarked']])\n",
    "encoded_df = pd.DataFrame(encoded_columns, columns=encoder.get_feature_names_out())\n",
    "\n",
    "# Drop original categorical columns and add encoded ones\n",
    "df = df.drop(columns=['sex', 'embarked'])\n",
    "df = pd.concat([df, encoded_df], axis=1)\n",
    "\n",
    "# Select features and target variable\n",
    "X = df[['pclass', 'age', 'fare', 'family_size', 'fare_per_person', 'is_alone'] + list(encoded_df.columns)]\n",
    "y = df['survived']\n",
    "\n",
    "# Normalize numerical features\n",
    "scaler = StandardScaler()\n",
    "X[['age', 'fare', 'fare_per_person']] = scaler.fit_transform(X[['age', 'fare', 'fare_per_person']])\n",
    "\n",
    "# Split dataset into train and test sets\n",
    "X_train, X_test, y_train, y_test = train_test_split(X, y, test_size=0.2, random_state=42)\n",
    "\n",
    "# Trying GradientBoostingClassifier for better performance\n",
    "model = GradientBoostingClassifier(n_estimators=500, learning_rate=0.01, max_depth=5, random_state=42)\n",
    "model.fit(X_train, y_train)\n",
    "\n",
    "# Evaluate model\n",
    "y_pred_best = model.predict(X_test)\n",
    "accuracy_best = accuracy_score(y_test, y_pred_best)\n",
    "precision_best = precision_score(y_test, y_pred_best)\n",
    "recall_best = recall_score(y_test, y_pred_best)\n",
    "f1_best = f1_score(y_test, y_pred_best)\n",
    "\n",
    "# Save optimized model\n",
    "joblib.dump(model, 'optimized_titanic_model.pkl')\n",
    "\n",
    "# Print evaluation metrics\n",
    "print(f'Optimized Accuracy: {accuracy_best:.4f}')\n",
    "print(f'Optimized Precision: {precision_best:.4f}')\n",
    "print(f'Optimized Recall: {recall_best:.4f}')\n",
    "print(f'Optimized F1 Score: {f1_best:.4f}')\n",
    "print(\"Optimized model saved as optimized_titanic_model.pkl\")\n"
   ]
  }
 ],
 "metadata": {
  "kernelspec": {
   "display_name": "Python 3",
   "language": "python",
   "name": "python3"
  },
  "language_info": {
   "codemirror_mode": {
    "name": "ipython",
    "version": 3
   },
   "file_extension": ".py",
   "mimetype": "text/x-python",
   "name": "python",
   "nbconvert_exporter": "python",
   "pygments_lexer": "ipython3",
   "version": "3.11.5"
  }
 },
 "nbformat": 4,
 "nbformat_minor": 2
}
