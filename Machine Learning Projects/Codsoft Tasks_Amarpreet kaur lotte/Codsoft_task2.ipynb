{
 "cells": [
  {
   "cell_type": "markdown",
   "metadata": {},
   "source": [
    "Name:- Amarpreet kaur lotte\n",
    "\n",
    "\n",
    "Email:- amarpreetkaurlotte@gmail.com\n",
    "\n",
    "\n",
    "Codsoft_List_Task3:- IRIS FLOWER CLASSIFICATION"
   ]
  },
  {
   "cell_type": "code",
   "execution_count": 1,
   "metadata": {},
   "outputs": [],
   "source": [
    "import pandas as pd\n",
    "from sklearn.model_selection import train_test_split, GridSearchCV\n",
    "from sklearn.ensemble import RandomForestClassifier\n",
    "from sklearn.preprocessing import LabelEncoder\n",
    "from sklearn.metrics import classification_report, accuracy_score"
   ]
  },
  {
   "cell_type": "code",
   "execution_count": 2,
   "metadata": {},
   "outputs": [],
   "source": [
    "# Load the Iris dataset\n",
    "iris_data = pd.read_csv('IRIS.csv')\n",
    "\n",
    "# Encode the target variable (species)\n",
    "label_encoder = LabelEncoder()\n",
    "iris_data['species'] = label_encoder.fit_transform(iris_data['species'])"
   ]
  },
  {
   "cell_type": "code",
   "execution_count": 3,
   "metadata": {},
   "outputs": [
    {
     "name": "stdout",
     "output_type": "stream",
     "text": [
      "Dataset preview:\n",
      "   sepal_length  sepal_width  petal_length  petal_width  species\n",
      "0           5.1          3.5           1.4          0.2        0\n",
      "1           4.9          3.0           1.4          0.2        0\n",
      "2           4.7          3.2           1.3          0.2        0\n",
      "3           4.6          3.1           1.5          0.2        0\n",
      "4           5.0          3.6           1.4          0.2        0\n"
     ]
    }
   ],
   "source": [
    "# Display the first few rows\n",
    "print(\"Dataset preview:\")\n",
    "print(iris_data.head())"
   ]
  },
  {
   "cell_type": "code",
   "execution_count": 4,
   "metadata": {},
   "outputs": [],
   "source": [
    "# Step 1:- Separate features and target\n",
    "X_iris = iris_data.drop(columns=['species'])\n",
    "y_iris = iris_data['species']\n"
   ]
  },
  {
   "cell_type": "code",
   "execution_count": 5,
   "metadata": {},
   "outputs": [],
   "source": [
    "# Step 2:- Split the dataset into training and test sets (80%-20%)\n",
    "X_train_iris, X_test_iris, y_train_iris, y_test_iris = train_test_split(\n",
    "    X_iris, y_iris, test_size=0.2, random_state=42, stratify=y_iris\n",
    ")\n",
    "\n",
    "# Hyperparameter tuning for Random Forest\n",
    "param_grid = {\n",
    "    'n_estimators': [50, 100, 150],\n",
    "    'max_depth': [None, 5, 10],\n",
    "    'min_samples_split': [2, 5, 10],\n",
    "}\n",
    "\n",
    "grid_search = GridSearchCV(RandomForestClassifier(random_state=42), param_grid, cv=5, scoring='accuracy')\n",
    "grid_search.fit(X_train_iris, y_train_iris)\n",
    "\n",
    "# Best model from GridSearch\n",
    "best_rf_model = grid_search.best_estimator_"
   ]
  },
  {
   "cell_type": "code",
   "execution_count": 6,
   "metadata": {},
   "outputs": [],
   "source": [
    "# Step 3:- Predict on the test set\n",
    "y_pred_iris = best_rf_model.predict(X_test_iris)\n"
   ]
  },
  {
   "cell_type": "code",
   "execution_count": 7,
   "metadata": {},
   "outputs": [
    {
     "name": "stdout",
     "output_type": "stream",
     "text": [
      "Accuracy: 96.67%\n",
      "Classification Report:\n",
      "                 precision    recall  f1-score   support\n",
      "\n",
      "    Iris-setosa       1.00      1.00      1.00        10\n",
      "Iris-versicolor       1.00      0.90      0.95        10\n",
      " Iris-virginica       0.91      1.00      0.95        10\n",
      "\n",
      "       accuracy                           0.97        30\n",
      "      macro avg       0.97      0.97      0.97        30\n",
      "   weighted avg       0.97      0.97      0.97        30\n",
      "\n"
     ]
    }
   ],
   "source": [
    "# Step 4:- Evaluate the tuned model\n",
    "iris_accuracy = accuracy_score(y_test_iris, y_pred_iris)\n",
    "iris_classification_report = classification_report(y_test_iris, y_pred_iris, target_names=label_encoder.classes_)\n",
    "\n",
    "# Display evaluation\n",
    "print(f\"Accuracy: {iris_accuracy * 100:.2f}%\")\n",
    "print(\"Classification Report:\")\n",
    "print(iris_classification_report)\n"
   ]
  },
  {
   "cell_type": "code",
   "execution_count": 9,
   "metadata": {},
   "outputs": [
    {
     "name": "stdout",
     "output_type": "stream",
     "text": [
      "Welcome to the Iris Flower Classifier!\n",
      "Choose an option:\n",
      "1. Predict using a test dataset index.\n",
      "2. Predict using custom input measurements.\n",
      "Enter an index from the test dataset (valid range: 0 to 29)\n",
      "\n",
      "Result:\n",
      "{'Actual Class': 'Iris-versicolor', 'Predicted Class': 'Iris-versicolor'}\n"
     ]
    }
   ],
   "source": [
    "# Function to predict and compare results with user interaction\n",
    "def predict_iris_with_input():\n",
    "    try:\n",
    "        print(\"Welcome to the Iris Flower Classifier!\")\n",
    "        print(\"Choose an option:\")\n",
    "        print(\"1. Predict using a test dataset index.\")\n",
    "        print(\"2. Predict using custom input measurements.\")\n",
    "        choice = int(input(\"Enter your choice (1 or 2): \"))\n",
    "\n",
    "        if choice == 1:\n",
    "            # Prompt user for index\n",
    "            print(f\"Enter an index from the test dataset (valid range: 0 to {len(X_test_iris) - 1})\")\n",
    "            index = int(input(\"Enter the index: \"))\n",
    "\n",
    "            # Ensure the index is valid\n",
    "            if index < 0 or index >= len(X_test_iris):\n",
    "                return f\"Error: Index must be between 0 and {len(X_test_iris) - 1}.\"\n",
    "\n",
    "            # Fetch features and actual class for the index\n",
    "            input_features = X_test_iris.iloc[[index]]  # Keep as DataFrame\n",
    "            actual_class = label_encoder.inverse_transform([y_test_iris.iloc[index]])[0]\n",
    "\n",
    "        elif choice == 2:\n",
    "            # Prompt user for custom input\n",
    "            print(f\"Enter custom input measurements as comma-separated values (format: {', '.join(X_test_iris.columns)}):\")\n",
    "            custom_input = list(map(float, input(\"Enter the values: \").split(\",\")))\n",
    "\n",
    "            # Ensure valid input length\n",
    "            if len(custom_input) != X_test_iris.shape[1]:\n",
    "                return f\"Error: Custom input must have {X_test_iris.shape[1]} features.\"\n",
    "\n",
    "            # Convert custom input to DataFrame\n",
    "            input_features = pd.DataFrame([custom_input], columns=X_test_iris.columns)\n",
    "            actual_class = \"N/A (Custom Input)\"\n",
    "\n",
    "        else:\n",
    "            return \"Invalid choice! Please select either 1 or 2.\"\n",
    "\n",
    "        # Make prediction\n",
    "        prediction = best_rf_model.predict(input_features)[0]\n",
    "        predicted_class = label_encoder.inverse_transform([prediction])[0]\n",
    "\n",
    "        # Display results\n",
    "        result = {\n",
    "            \"Actual Class\": actual_class,\n",
    "            \"Predicted Class\": predicted_class,\n",
    "        }\n",
    "        return result\n",
    "    except ValueError as e:\n",
    "        return f\"Error: Invalid input. {str(e)}\"\n",
    "\n",
    "# Call the function for user interaction\n",
    "result = predict_iris_with_input()\n",
    "print(\"\\nResult:\")\n",
    "print(result)\n"
   ]
  }
 ],
 "metadata": {
  "kernelspec": {
   "display_name": "base",
   "language": "python",
   "name": "python3"
  },
  "language_info": {
   "codemirror_mode": {
    "name": "ipython",
    "version": 3
   },
   "file_extension": ".py",
   "mimetype": "text/x-python",
   "name": "python",
   "nbconvert_exporter": "python",
   "pygments_lexer": "ipython3",
   "version": "3.10.9"
  }
 },
 "nbformat": 4,
 "nbformat_minor": 2
}
